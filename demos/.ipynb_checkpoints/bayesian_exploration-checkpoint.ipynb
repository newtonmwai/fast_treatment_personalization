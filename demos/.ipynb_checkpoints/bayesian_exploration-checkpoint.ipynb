{
 "cells": [
  {
   "cell_type": "code",
   "execution_count": 20,
   "id": "planned-publicity",
   "metadata": {},
   "outputs": [
    {
     "name": "stdout",
     "output_type": "stream",
     "text": [
      "The autoreload extension is already loaded. To reload it, use:\n",
      "  %reload_ext autoreload\n"
     ]
    }
   ],
   "source": [
    "%load_ext autoreload\n",
    "%autoreload 2\n",
    "\n",
    "import os, sys\n",
    "\n",
    "sys.path.append('../')\n",
    "\n",
    "from healthy_gym.agents.thompson_sampling import *\n",
    "from healthy_gym.agents.beliefs import *\n",
    "\n",
    "import matplotlib.pyplot as plt\n",
    "\n",
    "class SimpleModel:\n",
    "    def __init__(self, params):\n",
    "        self.params = params\n",
    "    def predict(self, x):\n",
    "        return self.params"
   ]
  },
  {
   "cell_type": "code",
   "execution_count": 21,
   "id": "cultural-cleaner",
   "metadata": {},
   "outputs": [],
   "source": [
    "seed = 1\n",
    "model1 = SimpleModel([0.4, 0.5, 0.6, 0.55])\n",
    "model2 = SimpleModel([0.7, 0.5, 0.5, 0.6])\n",
    "model_ts = ModelThompsonSampling(models=[model1, model2],\n",
    "                                 explore=True,\n",
    "                                 confidence=0.05,\n",
    "                                 rule='simple',\n",
    "                                 belief=BernoulliModelBelief([model1, model2],random_state=seed))"
   ]
  },
  {
   "cell_type": "code",
   "execution_count": 22,
   "id": "italian-sherman",
   "metadata": {},
   "outputs": [
    {
     "name": "stdout",
     "output_type": "stream",
     "text": [
      "Recommended Model 0 after 29 steps\n"
     ]
    }
   ],
   "source": [
    "T = 1000\n",
    "x = None # No context\n",
    "true_model = model1.params\n",
    "random_state = np.random.RandomState(seed)\n",
    "for t in range(T):\n",
    "    reward = random_state.binomial(1, true_model)\n",
    "    # Model TS \n",
    "    a_t, is_done, info = model_ts.act(x)\n",
    "    r_t = reward[a_t]\n",
    "    model_ts.update(x, a_t, r_t)\n",
    "    if is_done:\n",
    "        print(f'Recommended Model {a_t} after {t} steps')\n",
    "        break\n",
    "        "
   ]
  },
  {
   "cell_type": "code",
   "execution_count": null,
   "id": "opposed-stomach",
   "metadata": {},
   "outputs": [],
   "source": []
  },
  {
   "cell_type": "code",
   "execution_count": null,
   "id": "canadian-nickel",
   "metadata": {},
   "outputs": [],
   "source": []
  }
 ],
 "metadata": {
  "kernelspec": {
   "display_name": "Python 3",
   "language": "python",
   "name": "python3"
  },
  "language_info": {
   "codemirror_mode": {
    "name": "ipython",
    "version": 3
   },
   "file_extension": ".py",
   "mimetype": "text/x-python",
   "name": "python",
   "nbconvert_exporter": "python",
   "pygments_lexer": "ipython3",
   "version": "3.8.3"
  }
 },
 "nbformat": 4,
 "nbformat_minor": 5
}
